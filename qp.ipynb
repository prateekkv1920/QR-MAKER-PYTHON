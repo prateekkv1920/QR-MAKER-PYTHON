{
 "cells": [
  {
   "cell_type": "code",
   "execution_count": 3,
   "id": "bd512c1a",
   "metadata": {},
   "outputs": [
    {
     "name": "stdout",
     "output_type": "stream",
     "text": [
      "Enter a number: 3445\n",
      "The sum of digits is: 16\n"
     ]
    }
   ],
   "source": [
    "num = int(input(\"Enter a number: \")) \n",
    "sum = 0 \n",
    " \n",
    "while num > 0: \n",
    "  digit = num % 10  # Extract the last digit \n",
    "  sum =sum + digit \n",
    "  num = num// 10 \n",
    "print(f\"The sum of digits is: {sum}\") \n"
   ]
  },
  {
   "cell_type": "code",
   "execution_count": null,
   "id": "a07508d6",
   "metadata": {},
   "outputs": [],
   "source": []
  },
  {
   "cell_type": "code",
   "execution_count": 19,
   "id": "b6294183",
   "metadata": {},
   "outputs": [
    {
     "name": "stdout",
     "output_type": "stream",
     "text": [
      "Enter the number of terms: 8\n",
      "0 1 1 2 3 5 8 13 \n"
     ]
    }
   ],
   "source": [
    "n = int(input(\"Enter the number of terms: \")) \n",
    " \n",
    "a, b = 0, 1 \n",
    " \n",
    "for i in range(n): \n",
    "  print(a, end=\" \") \n",
    "  a, b = b, a + b \n",
    "print()"
   ]
  },
  {
   "cell_type": "code",
   "execution_count": 20,
   "id": "dea3b6bc",
   "metadata": {},
   "outputs": [
    {
     "name": "stdout",
     "output_type": "stream",
     "text": [
      "['H', 'e', 'l', 'l', 'o', ',', ' ', 'W', 'o', 'r', 'l', 'd', '!']\n"
     ]
    }
   ],
   "source": [
    "string = \"Hello, World!\" \n",
    "string_list = list(string) \n",
    "print(string_list) \n"
   ]
  },
  {
   "cell_type": "code",
   "execution_count": 17,
   "id": "274d94e2",
   "metadata": {},
   "outputs": [
    {
     "name": "stdout",
     "output_type": "stream",
     "text": [
      "enter num6\n",
      "The factorial of 6 is: 720\n"
     ]
    }
   ],
   "source": [
    "number = int(input(\"enter num\")) \n",
    "fact = 1 \n",
    "for i in range(1, number + 1): \n",
    "  fact *= i \n",
    " \n",
    "print(f\"The factorial of {number} is: {fact}\") \n"
   ]
  },
  {
   "cell_type": "code",
   "execution_count": 21,
   "id": "1272e6c5",
   "metadata": {},
   "outputs": [
    {
     "name": "stdout",
     "output_type": "stream",
     "text": [
      "25 degrees Celsius is equal to 77.0 degrees Fahrenheit.\n"
     ]
    }
   ],
   "source": [
    "celsius = 25  # Replace 25 with the desired Celsius temperature \n",
    "fahrenheit = (celsius * 9/5) + 32 \n",
    "print(f\"{celsius} degrees Celsius is equal to {fahrenheit} degrees Fahrenheit.\") \n"
   ]
  },
  {
   "cell_type": "code",
   "execution_count": 1,
   "id": "27e073fd",
   "metadata": {},
   "outputs": [
    {
     "name": "stdout",
     "output_type": "stream",
     "text": [
      "153 is an Armstrong number\n"
     ]
    }
   ],
   "source": [
    "number = 153  \n",
    "digits = [int(d) for d in str(number)] \n",
    "order = len(digits) \n",
    "sum_of_powers = sum(d**order for d in digits) \n",
    "is_armstrong = sum_of_powers == number \n",
    " \n",
    "print(f\"{number} is {'an Armstrong number' if is_armstrong else 'not an Armstrong number'}\") \n",
    "  \n"
   ]
  },
  {
   "cell_type": "code",
   "execution_count": 2,
   "id": "02f62149",
   "metadata": {},
   "outputs": [
    {
     "name": "stdout",
     "output_type": "stream",
     "text": [
      "enter a number1634\n",
      "the given number 1634 is armstrong number\n"
     ]
    }
   ],
   "source": [
    "n=int(input(\"enter a number\"))\n",
    "s=n\n",
    "b=len(str(n))\n",
    "sum1=0\n",
    "while n!=0:\n",
    "    r=n%10\n",
    "    sum1=sum1+(r**b)\n",
    "    n=n//10\n",
    "if s==sum1:\n",
    "    print(\"the given number\",s,\"is armstrong number\")\n",
    "else:\n",
    "    print(\"the given number\",s,\"is not armstrong number\")"
   ]
  },
  {
   "cell_type": "code",
   "execution_count": 15,
   "id": "2b9884d8",
   "metadata": {},
   "outputs": [
    {
     "data": {
      "text/plain": [
       "'what are you doing'"
      ]
     },
     "execution_count": 15,
     "metadata": {},
     "output_type": "execute_result"
    }
   ],
   "source": [
    "q=\"what are you doing\"\n",
    "n=\"i am fine\"\n",
    "q.translate(n)\n"
   ]
  },
  {
   "cell_type": "code",
   "execution_count": 30,
   "id": "ceebf9b5",
   "metadata": {},
   "outputs": [
    {
     "data": {
      "text/html": [
       "<font size=5 color=\"hotpink\"> print hello </font>\n",
       "<font size=45 color=\"hotpink\"> print hello </font>\n",
       "hello how are you\n"
      ],
      "text/plain": [
       "<IPython.core.display.HTML object>"
      ]
     },
     "metadata": {},
     "output_type": "display_data"
    }
   ],
   "source": [
    "%%html\n",
    "<font size=5 color=\"hotpink\"> print hello </font>\n",
    "<font size=45 color=\"hotpink\"> print hello </font>\n",
    "hello how are you"
   ]
  },
  {
   "cell_type": "code",
   "execution_count": 33,
   "id": "031f1c50",
   "metadata": {},
   "outputs": [
    {
     "name": "stderr",
     "output_type": "stream",
     "text": [
      "UsageError: Cell magic `%%javscript` not found.\n"
     ]
    }
   ],
   "source": [
    "%%javscript\n",
    "alert(\"the system crashed in seconds\")"
   ]
  },
  {
   "cell_type": "code",
   "execution_count": 34,
   "id": "b750991b",
   "metadata": {},
   "outputs": [
    {
     "data": {
      "application/javascript": [
       "alert(\"the system crashed in seconds\")\n"
      ],
      "text/plain": [
       "<IPython.core.display.Javascript object>"
      ]
     },
     "metadata": {},
     "output_type": "display_data"
    }
   ],
   "source": [
    "%%js\n",
    "alert(\"the system crashed in seconds\")"
   ]
  },
  {
   "cell_type": "code",
   "execution_count": 46,
   "id": "653c7b98",
   "metadata": {},
   "outputs": [
    {
     "data": {
      "text/latex": [
       "z=$y=z^g*(x)$\n"
      ],
      "text/plain": [
       "<IPython.core.display.Latex object>"
      ]
     },
     "metadata": {},
     "output_type": "display_data"
    }
   ],
   "source": [
    "%%latex\n",
    "z=$y=z^g*(x)$\n"
   ]
  },
  {
   "cell_type": "code",
   "execution_count": 50,
   "id": "aac9e74c",
   "metadata": {},
   "outputs": [
    {
     "name": "stdout",
     "output_type": "stream",
     "text": [
      "['helloworld']\n"
     ]
    }
   ],
   "source": [
    "g=[\"hello\",\"world\"]\n",
    "st=\"\"\n",
    "c=[st.join(g)]\n",
    "print(c)"
   ]
  },
  {
   "cell_type": "code",
   "execution_count": 55,
   "id": "3db755fc",
   "metadata": {},
   "outputs": [
    {
     "data": {
      "text/plain": [
       "-1"
      ]
     },
     "execution_count": 55,
     "metadata": {},
     "output_type": "execute_result"
    }
   ],
   "source": [
    "st.find(\"o\")"
   ]
  },
  {
   "cell_type": "code",
   "execution_count": 6,
   "id": "52aa091c",
   "metadata": {},
   "outputs": [
    {
     "name": "stdout",
     "output_type": "stream",
     "text": [
      "enter a number9\n",
      "0 1 1 2 3 5 8 13 21 \n"
     ]
    }
   ],
   "source": [
    "n=int(input(\"enter a number: \"))\n",
    "a,b=0,1\n",
    "for i in range(n):\n",
    "    print(a,end=\" \")    \n",
    "    a,b=b,a+b\n",
    "print()    "
   ]
  },
  {
   "cell_type": "code",
   "execution_count": 3,
   "id": "5f8e1d8f",
   "metadata": {},
   "outputs": [
    {
     "name": "stdout",
     "output_type": "stream",
     "text": [
      "enter a number86\n",
      "0 1 1 2 3 5 8 13 21 34 55 89 144 233 377 610 987 1597 2584 4181 6765 10946 17711 28657 46368 75025 121393 196418 317811 514229 832040 1346269 2178309 3524578 5702887 9227465 14930352 24157817 39088169 63245986 102334155 165580141 267914296 433494437 701408733 1134903170 1836311903 2971215073 4807526976 7778742049 12586269025 20365011074 32951280099 53316291173 86267571272 139583862445 225851433717 365435296162 591286729879 956722026041 1548008755920 2504730781961 4052739537881 6557470319842 10610209857723 17167680177565 27777890035288 44945570212853 72723460248141 117669030460994 190392490709135 308061521170129 498454011879264 806515533049393 1304969544928657 2111485077978050 3416454622906707 5527939700884757 8944394323791464 14472334024676221 23416728348467685 37889062373143906 61305790721611591 99194853094755497 160500643816367088 259695496911122585 \n"
     ]
    }
   ],
   "source": [
    "n=int(input(\"enter a number\"))\n",
    "a,b=0,1\n",
    "for i in range(n):\n",
    "    print(a,end=\" \")\n",
    "    a,b=b,a+b\n",
    "print()      "
   ]
  },
  {
   "cell_type": "code",
   "execution_count": 7,
   "id": "a1fb05b9",
   "metadata": {},
   "outputs": [
    {
     "name": "stdout",
     "output_type": "stream",
     "text": [
      "enter a number231253\n",
      "Sum is  16\n"
     ]
    }
   ],
   "source": [
    "n=int(input(\"enter a number\"))\n",
    "t=0\n",
    "for i in str(n):\n",
    "    t=t+int(i)\n",
    "print(\"Sum is \",t)"
   ]
  },
  {
   "cell_type": "code",
   "execution_count": 32,
   "id": "9546eeb4",
   "metadata": {},
   "outputs": [
    {
     "data": {
      "text/plain": [
       "'ermdcs,'"
      ]
     },
     "execution_count": 32,
     "metadata": {},
     "output_type": "execute_result"
    }
   ],
   "source": [
    "n=\"erfndcs,\"\n",
    "\n",
    "m=\"rewrfref\"\n",
    "n.replace(\"fn\",\"m\")"
   ]
  },
  {
   "cell_type": "code",
   "execution_count": 33,
   "id": "dbe6e12f",
   "metadata": {},
   "outputs": [
    {
     "name": "stdout",
     "output_type": "stream",
     "text": [
      "a 7\n",
      "b 8\n"
     ]
    }
   ],
   "source": [
    "a=8\n",
    "b=7\n",
    "a=a+b\n",
    "b=a-b\n",
    "a=a-b\n",
    "print(\"a\",a)\n",
    "print(\"b\",b)"
   ]
  },
  {
   "cell_type": "code",
   "execution_count": 1,
   "id": "4892df6e",
   "metadata": {},
   "outputs": [
    {
     "name": "stdout",
     "output_type": "stream",
     "text": [
      "['helloworld']\n"
     ]
    }
   ],
   "source": [
    "a=[\"hello\",\"world\"]\n",
    "i=\"\"\n",
    "d=[i.join (a)]\n",
    "print(d)"
   ]
  },
  {
   "cell_type": "code",
   "execution_count": 16,
   "id": "650cdf51",
   "metadata": {},
   "outputs": [
    {
     "name": "stdout",
     "output_type": "stream",
     "text": [
      "enter num 7\n",
      "5040\n"
     ]
    }
   ],
   "source": [
    "n=int(input(\"enter num \"))\n",
    "f=1\n",
    "for i in range(1,n+1):\n",
    "    f=f*i\n",
    "print(f)\n"
   ]
  },
  {
   "cell_type": "code",
   "execution_count": 3,
   "id": "f71454e4",
   "metadata": {},
   "outputs": [
    {
     "name": "stdout",
     "output_type": "stream",
     "text": [
      "hello\n",
      "hello\n",
      "hello\n",
      "hello\n",
      "hello\n",
      "hello\n"
     ]
    }
   ],
   "source": [
    "n=0\n",
    "while n<=5:\n",
    "    print(\"hello\")\n",
    "    n=n+1"
   ]
  },
  {
   "cell_type": "code",
   "execution_count": 4,
   "id": "f5a47a4e",
   "metadata": {},
   "outputs": [
    {
     "name": "stdout",
     "output_type": "stream",
     "text": [
      "632\n"
     ]
    }
   ],
   "source": [
    "s=[3,34,244,4,324,23]\n",
    "print(sum(s))"
   ]
  },
  {
   "cell_type": "code",
   "execution_count": 19,
   "id": "ddc2f741",
   "metadata": {},
   "outputs": [
    {
     "name": "stdout",
     "output_type": "stream",
     "text": [
      "170\n"
     ]
    }
   ],
   "source": [
    "s=0\n",
    "p=[23,1,3,13,1,3,3,123,]\n",
    "for i in p:\n",
    "    s=s+i\n",
    "print(s)"
   ]
  },
  {
   "cell_type": "code",
   "execution_count": 3,
   "id": "9b83f5fc",
   "metadata": {},
   "outputs": [
    {
     "name": "stdout",
     "output_type": "stream",
     "text": [
      "4\n",
      "4\n",
      "4\n",
      "4\n",
      "4\n",
      "4\n",
      "4\n"
     ]
    }
   ],
   "source": [
    "seq=[1,3,4,5,7,8,9]\n",
    "for i in range(len(seq)):\n",
    "    val=seq[2]\n",
    "    print(val)"
   ]
  },
  {
   "cell_type": "code",
   "execution_count": 3,
   "id": "dc5f2acf",
   "metadata": {},
   "outputs": [
    {
     "name": "stdout",
     "output_type": "stream",
     "text": [
      "{1: 'ww', 2: 'dscd', 3: 'dssd', 4: 'sdsd'}\n"
     ]
    }
   ],
   "source": [
    "x=[1,2,3,4]\n",
    "p=[\"ww\",\"dscd\",'dssd',\"sdsd\"]\n",
    "m=dict(zip(x,p))\n",
    "print(m)\n"
   ]
  },
  {
   "cell_type": "code",
   "execution_count": 4,
   "id": "83a85c0c",
   "metadata": {},
   "outputs": [
    {
     "name": "stdout",
     "output_type": "stream",
     "text": [
      "{1: 'ww', 2: 'dscd', 3: 'dssd', 4: 'sdsd'}\n"
     ]
    }
   ],
   "source": [
    "print(m)"
   ]
  },
  {
   "cell_type": "code",
   "execution_count": 4,
   "id": "f09f22ac",
   "metadata": {},
   "outputs": [
    {
     "name": "stdout",
     "output_type": "stream",
     "text": [
      "1\n",
      "3\n",
      "5\n",
      "7\n",
      "9\n"
     ]
    }
   ],
   "source": [
    "for num in range(0,11):\n",
    "    if num % 2 == 0:\n",
    "        pass  # Skip even numbers (less efficient than using an if condition in the for loop) \n",
    "    else: \n",
    "        print(num) \n"
   ]
  },
  {
   "cell_type": "code",
   "execution_count": 8,
   "id": "a782e229",
   "metadata": {},
   "outputs": [
    {
     "name": "stdout",
     "output_type": "stream",
     "text": [
      "[{'name': 'Charlie'}]\n"
     ]
    }
   ],
   "source": [
    "data = [ \n",
    "    {\"name\": \"Alice\", \"age\": 30}, \n",
    "    {\"name\": \"Bob\", \"age\": 25}, \n",
    "    {\"name\": \"Charlie\"}, \n",
    "] \n",
    " \n",
    "key_to_remove = \"age\" \n",
    "filtered_data = [item for item in data if key_to_remove not in item] \n",
    " \n",
    "print(filtered_data) \n"
   ]
  },
  {
   "cell_type": "code",
   "execution_count": 9,
   "id": "e5042465",
   "metadata": {},
   "outputs": [
    {
     "name": "stdout",
     "output_type": "stream",
     "text": [
      "First element: 10\n",
      "Second element: 20\n",
      "Third element: 30\n",
      "First fruit: apple\n",
      "Second fruit: banana\n"
     ]
    }
   ],
   "source": [
    "my_list = [10, 20, 30, \"apple\", \"banana\"] \n",
    " \n",
    "# Unpacking the list into variables \n",
    "first, second, third, fruit1, fruit2 = my_list \n",
    " \n",
    "print(f\"First element: {first}\")  # Output: First element: 10 \n",
    "print(f\"Second element: {second}\")  # Output: Second element: 20 \n",
    "print(f\"Third element: {third}\")  # Output: Third element: 30 \n",
    "print(f\"First fruit: {fruit1}\")  # Output: First fruit: apple \n",
    "print(f\"Second fruit: {fruit2}\")  # Output: Second fruit: banana \n"
   ]
  },
  {
   "cell_type": "code",
   "execution_count": 15,
   "id": "644864e4",
   "metadata": {},
   "outputs": [
    {
     "name": "stdout",
     "output_type": "stream",
     "text": [
      "1  --  10\n",
      "2  --  20\n",
      "3  --  30\n",
      "4  --  apple\n",
      "5  --  banana\n"
     ]
    }
   ],
   "source": [
    "for i,j in enumerate(my_list):\n",
    "    print(i+1, \" -- \",j)"
   ]
  },
  {
   "cell_type": "code",
   "execution_count": 16,
   "id": "be261e13",
   "metadata": {},
   "outputs": [
    {
     "name": "stdout",
     "output_type": "stream",
     "text": [
      "enter a number25\n",
      "celcius: 25    fahrenhite: 77.0\n"
     ]
    }
   ],
   "source": [
    "c=int(input(\"enter a number\"))\n",
    "f=(c*9/5)+32\n",
    "print(\"celcius:\",c,\"   fahrenhite:\",f)"
   ]
  },
  {
   "cell_type": "code",
   "execution_count": 19,
   "id": "145989da",
   "metadata": {},
   "outputs": [
    {
     "name": "stdout",
     "output_type": "stream",
     "text": [
      "enter the num153\n",
      "153 is an Armstrong number\n"
     ]
    }
   ],
   "source": [
    "number = int(input('enter the num'))# Replace 153 with the desired number to check \n",
    " \n",
    "# Convert the number to a string and split it into digits \n",
    "digits = [int(d) for d in str(number)] \n",
    " \n",
    "# Calculate the sum of each digit raised to the power of the number of digits \n",
    "order = len(digits) \n",
    "sum_of_powers = sum(d**order for d in digits) \n",
    " \n",
    "# Check if the sum equals the original number \n",
    "is_armstrong = sum_of_powers == number \n",
    " \n",
    "print(f\"{number} is {'an Armstrong number' if is_armstrong else 'not an Armstrong number'}\") \n"
   ]
  },
  {
   "cell_type": "code",
   "execution_count": null,
   "id": "c435f8af",
   "metadata": {},
   "outputs": [],
   "source": []
  }
 ],
 "metadata": {
  "kernelspec": {
   "display_name": "Python 3 (ipykernel)",
   "language": "python",
   "name": "python3"
  },
  "language_info": {
   "codemirror_mode": {
    "name": "ipython",
    "version": 3
   },
   "file_extension": ".py",
   "mimetype": "text/x-python",
   "name": "python",
   "nbconvert_exporter": "python",
   "pygments_lexer": "ipython3",
   "version": "3.11.5"
  }
 },
 "nbformat": 4,
 "nbformat_minor": 5
}
